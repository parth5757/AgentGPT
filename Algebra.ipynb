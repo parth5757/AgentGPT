{
  "nbformat": 4,
  "nbformat_minor": 0,
  "metadata": {
    "colab": {
      "provenance": [],
      "authorship_tag": "ABX9TyMdER0qzN9u/KCbh4XLRn35",
      "include_colab_link": true
    },
    "kernelspec": {
      "name": "python3",
      "display_name": "Python 3"
    },
    "language_info": {
      "name": "python"
    }
  },
  "cells": [
    {
      "cell_type": "markdown",
      "metadata": {
        "id": "view-in-github",
        "colab_type": "text"
      },
      "source": [
        "<a href=\"https://colab.research.google.com/github/parth5757/AgentGPT/blob/main/Algebra.ipynb\" target=\"_parent\"><img src=\"https://colab.research.google.com/assets/colab-badge.svg\" alt=\"Open In Colab\"/></a>"
      ]
    },
    {
      "cell_type": "markdown",
      "source": [
        "# Proportions(પ્રમાણ)"
      ],
      "metadata": {
        "id": "zdZgHzF0Tkcg"
      }
    },
    {
      "cell_type": "markdown",
      "source": [],
      "metadata": {
        "id": "tWWGGzfQKln1"
      }
    },
    {
      "cell_type": "markdown",
      "source": [
        "$$\n",
        "\\frac{2}{4} = \\frac{3}{6}\n",
        "$$\n",
        "\n",
        "$$\n",
        "\\frac{n1}{d1} = \\frac{n2}{d2}\n",
        "$$\n"
      ],
      "metadata": {
        "id": "RWnTGxSBwmYS"
      }
    },
    {
      "cell_type": "markdown",
      "source": [
        "Question\n",
        "$$\n",
        "\\frac{1}{2} = \\frac{?}{16}\n",
        "$$\n",
        "Answer\n",
        "$$\n",
        "\\frac{1}{2} = \\frac{8}{16}\n",
        "$$"
      ],
      "metadata": {
        "id": "4Tn1BbeQK51n"
      }
    },
    {
      "cell_type": "code",
      "source": [
        "# Put Zero in unknown value\n",
        "n1 = 1\n",
        "d1 = 2\n",
        "n2 = 0\n",
        "d2 = 16\n",
        "\n",
        "if n2==0:\n",
        "  print (d2, n1/d1)\n",
        "  ans = d2* n1 /d1\n",
        "  print(\"n2 =\", ans)\n",
        "\n",
        "if d2==0:\n",
        "  print(n2, d1/n1)\n",
        "  ans = n2* d1 /n1\n",
        "  print(\"d2 =\", ans)"
      ],
      "metadata": {
        "colab": {
          "base_uri": "https://localhost:8080/"
        },
        "id": "961HW8K8r7IH",
        "outputId": "3c77f222-0148-4bae-df06-106060038067"
      },
      "execution_count": 3,
      "outputs": [
        {
          "output_type": "stream",
          "name": "stdout",
          "text": [
            "16 0.5\n",
            "n2 = 8.0\n"
          ]
        }
      ]
    },
    {
      "cell_type": "markdown",
      "source": [
        "##Extra Problems\n",
        "\n",
        "$$\n",
        "1\\frac{2}{3}+3\\frac{4}{5} -7\n",
        "$$\n",
        "\n",
        "\n",
        "\n"
      ],
      "metadata": {
        "id": "hAc3RbcKNczq"
      }
    },
    {
      "cell_type": "code",
      "source": [
        "x = 1+2/3+3+4/5-7\n",
        "print(x)"
      ],
      "metadata": {
        "colab": {
          "base_uri": "https://localhost:8080/"
        },
        "id": "DUhGpZ13Llrr",
        "outputId": "c9187545-62e3-4706-9827-39c2906c0d15"
      },
      "execution_count": 1,
      "outputs": [
        {
          "output_type": "stream",
          "name": "stdout",
          "text": [
            "-1.533333333333334\n"
          ]
        }
      ]
    }
  ]
}